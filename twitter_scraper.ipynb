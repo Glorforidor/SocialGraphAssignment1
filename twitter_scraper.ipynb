{
 "metadata": {
  "language_info": {
   "codemirror_mode": {
    "name": "ipython",
    "version": 3
   },
   "file_extension": ".py",
   "mimetype": "text/x-python",
   "name": "python",
   "nbconvert_exporter": "python",
   "pygments_lexer": "ipython3",
   "version": "3.8.5-final"
  },
  "orig_nbformat": 2,
  "kernelspec": {
   "name": "python3",
   "display_name": "Python 3"
  }
 },
 "nbformat": 4,
 "nbformat_minor": 2,
 "cells": [
  {
   "cell_type": "code",
   "execution_count": 1,
   "metadata": {},
   "outputs": [],
   "source": [
    "import csv\n",
    "from functools import wraps\n",
    "import os\n",
    "import re\n",
    "import time\n",
    "\n",
    "\n",
    "import tweepy"
   ]
  },
  {
   "cell_type": "code",
   "execution_count": 2,
   "metadata": {
    "tags": []
   },
   "outputs": [],
   "source": [
    "twitter_consumer = os.environ[\"TWITTER_CONSUMER\"]\n",
    "twitter_consumer_secret = os.environ[\"TWITTER_CONSUMER_SECRET\"]\n",
    "twitter_token = os.environ[\"TWITTER_TOKEN\"]\n",
    "twitter_token_secret = os.environ[\"TWITTER_TOKEN_SECRET\"]\n",
    "\n",
    "auth = tweepy.OAuthHandler(twitter_consumer, twitter_consumer_secret)\n",
    "auth.set_access_token(twitter_token, twitter_token_secret)\n",
    "api = tweepy.API(auth)\n",
    "\n",
    "\n",
    "query = \"(infosec OR cve OR cybersec OR cybersecurity OR ransomware)\"\n",
    "twitter_filter = \"-filter:retweets\"\n",
    "mininum_favorites = \"min_faves:10\"\n",
    "\n",
    "pattern = re.compile(r\"@\\w+\", re.UNICODE | re.MULTILINE)\n",
    "\n",
    "public_tweets = api.search(f\"{query} {twitter_filter} {mininum_favorites}\", count=100)\n",
    "\n",
    "with  open(\"tweets.csv\", \"w\", newline=\"\") as twitter_file:\n",
    "    csv_writer = csv.writer(twitter_file, quoting=csv.QUOTE_ALL)\n",
    "    header = [\"screen_name\", \"content\", \"mentions\"]\n",
    "    csv_writer.writerow(header)\n",
    "    for tweet in public_tweets:\n",
    "        mentions = pattern.findall(tweet.text)\n",
    "        csv_writer.writerow([f\"@{tweet.user.screen_name}\", tweet.text.replace(\"\\n\", \"\\\\n\"), \"|\".join(mentions)])"
   ]
  },
  {
   "cell_type": "code",
   "execution_count": 3,
   "metadata": {},
   "outputs": [],
   "source": [
    "def retry(func=None, wait=900):\n",
    "    def decorator_retry(func):\n",
    "        @wraps(func)\n",
    "        def wrapper(*args, **kwargs):\n",
    "            while True:\n",
    "                try:\n",
    "                    return func(*args, **kwargs)\n",
    "                except tweepy.RateLimitError:\n",
    "                    time.sleep(wait)\n",
    "                except Exception as e:\n",
    "                    print(e)\n",
    "                    # maybe just return now?\n",
    "        return wrapper\n",
    "\n",
    "\n",
    "    if func is not None:\n",
    "        return decorator_retry(func)\n",
    "\n",
    "    return decorator_retry"
   ]
  },
  {
   "cell_type": "code",
   "execution_count": 4,
   "metadata": {},
   "outputs": [],
   "source": [
    "names = set()\n",
    "with open(\"tweets.csv\", newline=\"\") as twitter_file:\n",
    "    csv_reader = csv.DictReader(twitter_file)\n",
    "    for row in csv_reader:\n",
    "        names.add(row[\"screen_name\"])\n",
    "        for mention in row[\"mentions\"].split(\"|\"):\n",
    "            names.add(mention)\n",
    "\n",
    "# remove empty screen name\n",
    "names.remove(\"\")"
   ]
  },
  {
   "cell_type": "code",
   "execution_count": 5,
   "metadata": {},
   "outputs": [],
   "source": [
    "friend_list = {}"
   ]
  },
  {
   "cell_type": "code",
   "execution_count": 6,
   "metadata": {},
   "outputs": [],
   "source": [
    "@retry\n",
    "def friends_ids(name):\n",
    "    return {name: api.friends_ids(name, count=5000)}\n",
    "\n",
    "for name in names:\n",
    "    # if the name is already in the list, we continue\n",
    "    if name in friend_list:\n",
    "        continue\n",
    "    \n",
    "    friend_list.update(friends_ids(name))"
   ]
  },
  {
   "cell_type": "code",
   "execution_count": 7,
   "metadata": {},
   "outputs": [],
   "source": [
    "with open(\"user_and_friends_ids.csv\", \"w\", newline=\"\") as twitter_file:\n",
    "    header = [\"screen_name\", \"friends_ids\"]\n",
    "    csv_writer = csv.writer(twitter_file, quoting=csv.QUOTE_ALL)\n",
    "    csv_writer.writerow(header)\n",
    "    for k, v in friend_list.items():\n",
    "        csv_writer.writerow([k, \"|\".join(str(vv) for vv in v)])"
   ]
  },
  {
   "cell_type": "code",
   "execution_count": 8,
   "metadata": {},
   "outputs": [],
   "source": [
    "unique_friend_ids = list(set(id_ for ids in friend_list.values() for id_ in ids))"
   ]
  },
  {
   "cell_type": "code",
   "execution_count": null,
   "metadata": {},
   "outputs": [],
   "source": [
    "screen_names = {}"
   ]
  },
  {
   "cell_type": "code",
   "execution_count": 10,
   "metadata": {},
   "outputs": [],
   "source": [
    "@retry\n",
    "def lookup_users(ids):\n",
    "    return api.lookup_users(ids)\n",
    "\n",
    "\n",
    "for i in range(100, len(unique_friend_ids), 100):\n",
    "    users = lookup_users(unique_friend_ids[i-100:i])\n",
    "    screen_names.update({user.id: user.screen_name for user in users})"
   ]
  },
  {
   "cell_type": "code",
   "execution_count": 11,
   "metadata": {},
   "outputs": [],
   "source": [
    "with open(\"id_to_screen_name.csv\", \"w\", newline=\"\") as twitter_file:\n",
    "    header = [\"id\", \"screen_name\"]\n",
    "    csv_writer = csv.writer(twitter_file, quoting=csv.QUOTE_ALL)\n",
    "    csv_writer.writerow(header)\n",
    "    for k, v in screen_names.items():\n",
    "        csv_writer.writerow([k, v])"
   ]
  },
  {
   "cell_type": "code",
   "execution_count": 15,
   "metadata": {},
   "outputs": [],
   "source": [
    "friendly_friend_list = {screen_name: [f\"@{screen_names.get(id_)}\" for id_ in ids] for screen_name, ids in friend_list.items()}"
   ]
  },
  {
   "cell_type": "code",
   "execution_count": 16,
   "metadata": {},
   "outputs": [],
   "source": [
    "with open(\"user_to_friend_screen_names.csv\", \"w\", newline=\"\") as twitter_file:\n",
    "    header = [\"screen_name\", \"friend_screen_names\"]\n",
    "    csv_writer = csv.writer(twitter_file, quoting=csv.QUOTE_ALL)\n",
    "    csv_writer.writerow(header)\n",
    "    for k, v in friendly_friend_list.items():\n",
    "        csv_writer.writerow([k, \"|\".join(v)])"
   ]
  }
 ]
}