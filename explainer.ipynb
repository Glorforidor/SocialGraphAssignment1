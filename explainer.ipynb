{
 "cells": [
  {
   "cell_type": "markdown",
   "metadata": {},
   "source": [
    "# Security People Network\n",
    "\n",
    "Written by:\n",
    "\n",
    "|Studie no.|Full Name           |\n",
    "|:--------:|:------------------:|\n",
    "| s192188  | Yucheng Ren         |\n",
    "| s153753  | Søren Fritzbøger    |\n",
    "| s143232  | Peter Bom Jakobsen  |"
   ]
  },
  {
   "cell_type": "markdown",
   "metadata": {},
   "source": [
    "## Motivation"
   ]
  },
  {
   "cell_type": "markdown",
   "metadata": {},
   "source": [
    "Security people - as the world of IT becomes more widespread and increasingly complex, many security vulnerabilities arise which could potentially have an enormous impact on a company or worse case a whole country. There are a few guardians who dedicate their life to secure the IT infrastructure so we all can sleep peacefully.\n",
    "\n",
    "We want to explore how many security people there are and find out if they generally know each other. \n",
    "Find out if they can be split into two communities of offensive vs defensive security. \n",
    "Within these communities, we could try to use some Natural Language Processing to detect which community speaks most loudly and potentially see if there is a sentimentally difference.\n",
    "\n",
    "Many security people uses Twitter as the communication platform to share their discoveries, insights and thoughts about security vulnerabilites and how to fix those.\n",
    "Therefore, we will use the Twitter API to extract data about these people.\n",
    "\n",
    "The extraction was conducted into 4 steps:\n",
    "\n",
    "1. Broad extraction of security people.\n",
    "2. Extraction user friendships.\n",
    "3. Extraction user information such as description and location.\n",
    "4. Extraction user timeline.\n",
    "\n",
    "After these steps we had sufficient data to conduct our analysis.\n",
    "\n",
    "The dataset contains:\n",
    "\n",
    "* tweets containing security words \"infosec\", \"cve\",  \"cybersec\", \"cybersecurity\" or \"ransomware\".\n",
    "* screen names.\n",
    "* friends' ids and screen names.\n",
    "* timeline tweets - 20 tweets that is not filtered.\n",
    "* user descriptions and locations."
   ]
  },
  {
   "cell_type": "markdown",
   "metadata": {},
   "source": [
    "* What is your dataset?\n",
    "* Why did you choose this/these particular dataset(s)?\n",
    "* What was your goal for the end user's experience?"
   ]
  },
  {
   "cell_type": "markdown",
   "metadata": {},
   "source": [
    "## Basic stats"
   ]
  },
  {
   "cell_type": "markdown",
   "metadata": {},
   "source": [
    "* Write about your choices in data cleaning and preprocessing\n",
    "* Write a short section that discusses the dataset stats (here you can recycle the work you did for Project Assignment A)"
   ]
  },
  {
   "cell_type": "markdown",
   "metadata": {},
   "source": [
    "The dataset is collected step by step. First, we collect the most recent tweets in the last seven days that are related to security topic. Then extract the author and mentions in the text as a start point, with these user information in hand, the next step is to retrieve the friends of them and gradually build the network. At each step, we use dictionary and set in Python to avoid duplicated records."
   ]
  },
  {
   "cell_type": "markdown",
   "metadata": {},
   "source": [
    "The overall size of our dataset is rougly 135 MB which contains 1988036 number of lines. \n",
    "\n",
    "From the network perspective, there are 2050 number of nodes and 18040 number of edges"
   ]
  },
  {
   "cell_type": "markdown",
   "metadata": {},
   "source": [
    "## Tools, theory and analysis"
   ]
  },
  {
   "source": [
    "### Tools"
   ],
   "cell_type": "markdown",
   "metadata": {}
  },
  {
   "source": [
    "To extract data from Twitter one needs a Twitter developer account.\n",
    "The process of applying for a developer account was a bit tidious, so we rooted against that and used an existing personal app the team member Peter Bom Jakobsen already had in place.  \n",
    "With this in place we could begin extract data.\n",
    "                \n",
    "To extract data we used the Python library [Tweepy][1], which wraps the Twitter API for easy usage.\n",
    "\n",
    "[1]: https://www.tweepy.org/"
   ],
   "cell_type": "markdown",
   "metadata": {}
  },
  {
   "source": [
    "### Theory"
   ],
   "cell_type": "markdown",
   "metadata": {}
  },
  {
   "source": [
    "### Analysis"
   ],
   "cell_type": "markdown",
   "metadata": {}
  },
  {
   "cell_type": "markdown",
   "metadata": {},
   "source": [
    "* Talk about how you've worked with text, including regular expressions, unicode, etc.\n",
    "* Describe which network science tools and data analysis strategies you've used, how those network science measures work, and why the tools you've chosen are right for the problem you're solving.\n",
    "* How did you use the tools to understand your dataset?"
   ]
  },
  {
   "cell_type": "markdown",
   "metadata": {},
   "source": [
    "## Discussion"
   ]
  },
  {
   "cell_type": "markdown",
   "metadata": {},
   "source": [
    "* What went well?,\n",
    "* What is still missing? What could be improved?, Why?"
   ]
  },
  {
   "cell_type": "markdown",
   "metadata": {},
   "source": [
    "In this project, we built a network that represents the relationship of security people.\n",
    "\n",
    "By buiding and exploring the communities of the network, we find out that the security people are generally fall into different groups that focus on diferent topics.\n",
    "\n",
    "In the sentimentality analysis, the result didn't indicate much difference among all the communities. By examing the tweets, we found that some of the tweets are not writen in English which could potentially affect the result. A further improvement could be clean up the data, either by filtering out the non-English tweets at the beginning or translate them to English.  "
   ]
  },
  {
   "cell_type": "markdown",
   "metadata": {},
   "source": [
    "## Contributions"
   ]
  },
  {
   "cell_type": "markdown",
   "metadata": {},
   "source": [
    "* You should write (just briefly) which group member was the main responsible for which elements of the assignment. (I want you guys to understand every part of the assignment, but usually there is someone who took lead role on certain portions of the work. That’s what you should explain).\n",
    "* It is not OK simply to write \"All group members contributed equally\"."
   ]
  }
 ],
 "metadata": {
  "kernelspec": {
   "display_name": "Python 3",
   "language": "python",
   "name": "python3"
  },
  "language_info": {
   "codemirror_mode": {
    "name": "ipython",
    "version": 3
   },
   "file_extension": ".py",
   "mimetype": "text/x-python",
   "name": "python",
   "nbconvert_exporter": "python",
   "pygments_lexer": "ipython3",
   "version": "3.7.7"
  }
 },
 "nbformat": 4,
 "nbformat_minor": 2
}