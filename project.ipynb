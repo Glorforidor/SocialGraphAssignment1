{
 "metadata": {
  "language_info": {
   "codemirror_mode": {
    "name": "ipython",
    "version": 3
   },
   "file_extension": ".py",
   "mimetype": "text/x-python",
   "name": "python",
   "nbconvert_exporter": "python",
   "pygments_lexer": "ipython3",
   "version": "3.8.6-final"
  },
  "orig_nbformat": 2,
  "kernelspec": {
   "name": "python3",
   "display_name": "Python 3"
  }
 },
 "nbformat": 4,
 "nbformat_minor": 2,
 "cells": [
  {
   "cell_type": "code",
   "execution_count": null,
   "metadata": {},
   "outputs": [],
   "source": [
    "import collections\n",
    "import csv\n",
    "import math\n",
    "import os\n",
    "import os.path\n",
    "\n",
    "import community\n",
    "from fa2 import ForceAtlas2\n",
    "import networkx as nx\n",
    "import nltk\n",
    "from nltk import word_tokenize\n",
    "import numpy as np\n",
    "import matplotlib.pyplot as plt\n",
    "import pandas as pd\n",
    "from wordcloud import WordCloud"
   ]
  },
  {
   "cell_type": "code",
   "execution_count": null,
   "metadata": {},
   "outputs": [],
   "source": [
    "g = nx.Graph()"
   ]
  },
  {
   "cell_type": "code",
   "execution_count": null,
   "metadata": {},
   "outputs": [],
   "source": [
    "with open(\"./user_to_friend_screen_names.csv\", newline=\"\") as f:\n",
    "    csv_reader = csv.DictReader(f)\n",
    "    screen_name_to_friends = {row[\"screen_name\"]: row[\"friend_screen_names\"].split(\"|\") for row in csv_reader}"
   ]
  },
  {
   "cell_type": "code",
   "execution_count": null,
   "metadata": {},
   "outputs": [],
   "source": [
    "for screen_name, friends_list in screen_name_to_friends.items():\n",
    "    for friend in friends_list:\n",
    "        if friend in screen_name_to_friends and screen_name in screen_name_to_friends[friend]:\n",
    "            g.add_edge(screen_name, friend)"
   ]
  },
  {
   "cell_type": "code",
   "execution_count": null,
   "metadata": {},
   "outputs": [],
   "source": [
    "# Soeren says it is very understandable that these peeps have high degree. He knows some of them :O amazing..\n",
    "sorted(g.degree, key=lambda x: x[1], reverse=True)[:10]"
   ]
  },
  {
   "cell_type": "code",
   "execution_count": null,
   "metadata": {},
   "outputs": [],
   "source": [
    "node_sizes = [d for __, d in g.degree]"
   ]
  },
  {
   "cell_type": "code",
   "execution_count": null,
   "metadata": {},
   "outputs": [],
   "source": [
    "fig = plt.figure(figsize=(20, 10))\n",
    "nx.draw_networkx(g, node_size=node_sizes, with_labels=False, width=0.1)\n",
    "plt.title(\"Security People Network\")\n",
    "plt.axis('off')\n",
    "fig.show()"
   ]
  },
  {
   "cell_type": "code",
   "execution_count": null,
   "metadata": {},
   "outputs": [],
   "source": [
    "forceatlas2 = ForceAtlas2(# Behavior alternatives\n",
    "                          outboundAttractionDistribution=True,  # Dissuade hubs\n",
    "                          edgeWeightInfluence=0.5,\n",
    "                          # Performance\n",
    "                          jitterTolerance=0.2, # Tolerance\n",
    "                          barnesHutOptimize=True,\n",
    "                          barnesHutTheta=0.6,\n",
    "                          # Tuning\n",
    "                          scalingRatio=0.0,\n",
    "                          strongGravityMode=False,\n",
    "                          gravity=1,\n",
    "                          # Log\n",
    "                          verbose=True)\n",
    "\n",
    "positions = forceatlas2.forceatlas2_networkx_layout(g, pos=None, iterations=1000)"
   ]
  },
  {
   "cell_type": "code",
   "execution_count": null,
   "metadata": {},
   "outputs": [],
   "source": [
    "fig = plt.figure(figsize=(20, 10))\n",
    "nx.draw_networkx_nodes(g, positions, node_size=node_sizes, alpha=0.4)\n",
    "nx.draw_networkx_edges(g, positions, edge_color=\"black\", alpha=0.05, width=0.5)\n",
    "plt.title(\"Security People Network\")\n",
    "plt.axis('off')\n",
    "fig.show()"
   ]
  },
  {
   "cell_type": "code",
   "execution_count": null,
   "metadata": {},
   "outputs": [],
   "source": [
    "print(g.number_of_nodes())\n",
    "print(g.number_of_edges())"
   ]
  },
  {
   "cell_type": "code",
   "execution_count": null,
   "metadata": {},
   "outputs": [],
   "source": [
    "def communities(graph):\n",
    "    partition = community.best_partition(graph)\n",
    "    d = collections.defaultdict(list)\n",
    "    # the community.best_partition function maps nodes to a community number, below we map \n",
    "    for com in set(partition.values()):\n",
    "        for nodes in partition.keys():\n",
    "            if partition[nodes] == com:\n",
    "                d[com].append(nodes)\n",
    "    \n",
    "    return list(d.values())"
   ]
  },
  {
   "cell_type": "code",
   "execution_count": null,
   "metadata": {},
   "outputs": [],
   "source": [
    "# all communities - there are lot, so we gonna filter out some of them\n",
    "security_communities = communities(g)"
   ]
  },
  {
   "cell_type": "code",
   "execution_count": null,
   "metadata": {},
   "outputs": [],
   "source": [
    "print(f\"The number of security communities: {len(security_communities)}\")"
   ]
  },
  {
   "cell_type": "code",
   "execution_count": null,
   "metadata": {},
   "outputs": [],
   "source": [
    "hist, bin_edges = np.histogram(list(len(com) for com in security_communities))\n",
    "center = ((bin_edges[:-1] + bin_edges[1:]) / 2).round()\n",
    "fig = plt.figure(figsize=(20, 10))\n",
    "plt.bar(center, hist)\n",
    "plt.title(\"Security community sizes\")\n",
    "plt.ylabel(\"Count\")\n",
    "plt.xlabel(\"Community size\")\n",
    "plt.xticks(center)\n",
    "fig.show()"
   ]
  },
  {
   "cell_type": "code",
   "execution_count": null,
   "metadata": {},
   "outputs": [],
   "source": [
    "top_5_largest_communites = sorted(security_communities, key=len, reverse=True)[:5]"
   ]
  },
  {
   "cell_type": "code",
   "execution_count": null,
   "metadata": {},
   "outputs": [],
   "source": [
    "with open(\"communities.csv\", \"w\", newline=\"\") as f:\n",
    "    header = [\"community_name\", \"members\"]\n",
    "    csv_writer = csv.writer(f, quoting=csv.QUOTE_ALL)\n",
    "    csv_writer.writerow(header)\n",
    "\n",
    "    for i, com in enumerate(top_5_largest_communites):\n",
    "        csv_writer.writerow([i, \"|\".join(com)])"
   ]
  },
  {
   "cell_type": "code",
   "execution_count": null,
   "metadata": {},
   "outputs": [],
   "source": [
    "bio_by_name = {}"
   ]
  },
  {
   "source": [
    "with open(\"bios.csv\", newline=\"\") as f:\n",
    "    csv_reader = csv.DictReader(f)\n",
    "    bio_by_name = {row[\"screen_name\"]: row[\"bio\"] for row in csv_reader}"
   ],
   "cell_type": "code",
   "metadata": {},
   "execution_count": null,
   "outputs": []
  },
  {
   "source": [
    "# Communities!"
   ],
   "cell_type": "markdown",
   "metadata": {}
  },
  {
   "cell_type": "code",
   "execution_count": null,
   "metadata": {},
   "outputs": [],
   "source": [
    "bios_by_community = {i: [bio_by_name.get(name, \"\") for name in members] for i, members in enumerate(top_5_largest_communites)}"
   ]
  },
  {
   "cell_type": "code",
   "execution_count": null,
   "metadata": {},
   "outputs": [],
   "source": [
    "# all this beautiful code is from Assignment 2\n",
    "\n",
    "def bag_of_words(document):\n",
    "    \"\"\"bag_of_words returns a list of tokens of the document.\"\"\"\n",
    "    tokenizer = nltk.RegexpTokenizer(r\"\\w+(?:-\\w+)*\")\n",
    "    tokens = tokenizer.tokenize(document)\n",
    "    words = [w.lower() for w in tokens if w.isalpha()]\n",
    "    \n",
    "    wnl = nltk.WordNetLemmatizer()\n",
    "    lemma = [wnl.lemmatize(w) for w in words]\n",
    "\n",
    "    return lemma\n",
    "\n",
    "\n",
    "def number_of_words(bag_of_words, unique_words):\n",
    "    \"\"\"number_of_words return a dict where the key is a word in the bag_of_words and value is the number of times it appears.\n",
    "\n",
    "    The unique_words is all unique words in the corpus.\n",
    "    \"\"\"\n",
    "    num_words = dict.fromkeys(unique_words, 0)\n",
    "    for word in bag_of_words:\n",
    "        num_words[word] += 1\n",
    "    \n",
    "    return collections.Counter(num_words)\n",
    "\n",
    "\n",
    "def compute_TF(number_of_words, bag_of_words):\n",
    "    \"\"\"compute_TF returns the computed Term Frequency weight as a dict with words as keys and the weight as values.\"\"\"\n",
    "    tf_dict = collections.Counter()\n",
    "    bag_of_words_count = len(bag_of_words)\n",
    "    for word, count in number_of_words.items():\n",
    "        tf_dict[word] = count # / float(bag_of_words_count)  # without / float this function is the same as number_of_words = raw count\n",
    "    return tf_dict\n",
    "\n",
    "\n",
    "def compute_IDF(documents):\n",
    "    \"\"\"compute_IDF returns the computed Inverse Document Frequency weight as a dict with words as keys and the weight as values.\n",
    "    \n",
    "    Its weighting scheme: inverse document frequency log(N/nt)\n",
    "    \"\"\"\n",
    "    N = len(documents)\n",
    "    \n",
    "    idf_dict = collections.Counter()\n",
    "    for document in documents:\n",
    "        for word, val in document.items():\n",
    "            if val > 0:\n",
    "                idf_dict[word] += 1\n",
    "    \n",
    "    for word, val in idf_dict.items():\n",
    "        idf_dict[word] = math.log(N / float(val))\n",
    "    \n",
    "    return idf_dict\n",
    "\n",
    "\n",
    "def compute_TFIDF(tfs, idfs):\n",
    "    \"\"\"compute_TFIDF returns the computer Term Frequency - Inverse Document Frequency weight as a dict of words as keys and weight as values.\"\"\"\n",
    "    tf_idf = collections.Counter()\n",
    "    for word, val in tfs.items():\n",
    "        tf_idf[word] = val * idfs[word]\n",
    "    return tf_idf"
   ]
  },
  {
   "cell_type": "code",
   "execution_count": null,
   "metadata": {},
   "outputs": [],
   "source": [
    "# list of bags - one document = one bag. Each community is one document.\n",
    "list_bag_of_words = []\n",
    "for bios in bios_by_community.values():\n",
    "    list_bag_of_words.append(bag_of_words(\" \".join(bios)))\n",
    "\n",
    "\n",
    "# get all the unique words across all documents.\n",
    "unique_words = {word for bag in list_bag_of_words for word in bag}"
   ]
  },
  {
   "cell_type": "code",
   "execution_count": null,
   "metadata": {},
   "outputs": [],
   "source": [
    "tfs = []\n",
    "documents = []\n",
    "for bag in list_bag_of_words:\n",
    "    n = number_of_words(bag, unique_words)\n",
    "    documents.append(n)\n",
    "    tfs.append(compute_TF(n, bag))"
   ]
  },
  {
   "cell_type": "code",
   "execution_count": null,
   "metadata": {},
   "outputs": [],
   "source": [
    "# we calculate the idfs for all the documents in our corpus.\n",
    "idfs = compute_IDF(documents)"
   ]
  },
  {
   "cell_type": "code",
   "execution_count": null,
   "metadata": {},
   "outputs": [],
   "source": [
    "tfidfs = []\n",
    "for tf in tfs:\n",
    "    tfidfs.append(compute_TFIDF(tf, idfs))"
   ]
  },
  {
   "cell_type": "code",
   "execution_count": null,
   "metadata": {},
   "outputs": [],
   "source": [
    "wordcloud = WordCloud(\n",
    "    max_words=100,\n",
    "    collocations=False,\n",
    ")"
   ]
  },
  {
   "cell_type": "code",
   "execution_count": null,
   "metadata": {},
   "outputs": [],
   "source": [
    "fig, axs = plt.subplots(nrows=len(tfidfs), ncols=1, figsize=(20,20))\n",
    "for i, tfidf in enumerate(tfidfs):\n",
    "    wordcloud.generate_from_frequencies(tfidf)\n",
    "    axs[i].set_title(f\"Community {i+1}\")\n",
    "    axs[i].imshow(wordcloud, interpolation=\"bilinear\")\n",
    "    axs[i].axis(\"off\")\n",
    "\n",
    "\n",
    "fig.show()"
   ]
  },
  {
   "source": [
    "# Sentimentality\n",
    "\n",
    "Are security people sentitive? Lets find out!"
   ],
   "cell_type": "markdown",
   "metadata": {}
  },
  {
   "cell_type": "code",
   "execution_count": null,
   "metadata": {},
   "outputs": [],
   "source": [
    "# First download the dataset with happiness average\n",
    "\n",
    "url = \"https://ndownloader.figstatic.com/files/360592\"\n",
    "words_of_happiness = pd.read_csv(url, delimiter=\"\\t\", skiprows=3)"
   ]
  },
  {
   "cell_type": "code",
   "execution_count": null,
   "metadata": {},
   "outputs": [],
   "source": [
    "# This lovely code is from Assignment 2\n",
    "def compute_average_sentiment(tokens):\n",
    "    \"\"\"compute_average_sentiment returns the average sentiment value of the tokens.\n",
    "    \n",
    "    Each token in tokens must be in lowercase.\n",
    "    \"\"\"\n",
    "    sentiment = 0.0\n",
    "    if not len(tokens):\n",
    "        return sentiment\n",
    "\n",
    "    avg = np.nan_to_num(words_of_happiness[words_of_happiness[\"word\"].isin(tokens)][\"happiness_average\"].mean())\n",
    "    return avg"
   ]
  },
  {
   "cell_type": "code",
   "execution_count": null,
   "metadata": {},
   "outputs": [],
   "source": [
    "communities = {i: set(members) for i, members in enumerate(top_5_largest_communites)}"
   ]
  },
  {
   "cell_type": "code",
   "execution_count": null,
   "metadata": {},
   "outputs": [],
   "source": [
    "text_of_communities = collections.defaultdict(str)"
   ]
  },
  {
   "cell_type": "code",
   "execution_count": null,
   "metadata": {},
   "outputs": [],
   "source": [
    "with open(\"sentiment_tweets.csv\", newline=\"\") as f:\n",
    "    csv_reader = csv.DictReader(f)\n",
    "    tweets_by_screen_name = collections.defaultdict(list)\n",
    "    for row in csv_reader:\n",
    "        for i, members in communities.items():\n",
    "            if row[\"screen_name\"] in members:\n",
    "                text_of_communities[i] += f\" {row['tweets']}\""
   ]
  },
  {
   "cell_type": "code",
   "execution_count": null,
   "metadata": {
    "tags": []
   },
   "outputs": [],
   "source": [
    "sentiment_of_communities = {k: compute_average_sentiment(bag_of_words(v)) for k, v in text_of_communities.items()}"
   ]
  },
  {
   "cell_type": "code",
   "execution_count": null,
   "metadata": {},
   "outputs": [],
   "source": [
    "for com, sentiment in sentiment_of_communities.items():\n",
    "    print(f\"Community {com} have a sentiment value of {sentiment}\")"
   ]
  }
 ]
}