{
 "metadata": {
  "language_info": {
   "codemirror_mode": {
    "name": "ipython",
    "version": 3
   },
   "file_extension": ".py",
   "mimetype": "text/x-python",
   "name": "python",
   "nbconvert_exporter": "python",
   "pygments_lexer": "ipython3",
   "version": "3.8.6-final"
  },
  "orig_nbformat": 2,
  "kernelspec": {
   "name": "python3",
   "display_name": "Python 3"
  }
 },
 "nbformat": 4,
 "nbformat_minor": 2,
 "cells": [
  {
   "cell_type": "code",
   "execution_count": null,
   "metadata": {},
   "outputs": [],
   "source": [
    "import csv\n",
    "from functools import wraps\n",
    "import os\n",
    "import os.path\n",
    "import re\n",
    "import time\n",
    "\n",
    "import tweepy"
   ]
  },
  {
   "cell_type": "code",
   "execution_count": null,
   "metadata": {},
   "outputs": [],
   "source": [
    "tweets_filename = \"tweets.csv\"\n",
    "id_to_screen_name_filename = \"id_to_screen_name.csv\"\n",
    "user_and_friends_filename = \"user_and_friends_ids.csv\"\n",
    "user_to_friend_filename = \"user_to_friend_screen_names.csv\""
   ]
  },
  {
   "cell_type": "code",
   "execution_count": null,
   "metadata": {},
   "outputs": [],
   "source": [
    "# Load in all known screen names so we can use it as a filter.\n",
    "if os.path.exists(tweets_filename):\n",
    "    with open(tweets_filename, newline=\"\") as twitter_file:\n",
    "        csv_reader = csv.DictReader(twitter_file)\n",
    "        known_screen_names = [row[\"screen_name\"] for row in csv_reader]"
   ]
  },
  {
   "cell_type": "code",
   "execution_count": null,
   "metadata": {
    "tags": []
   },
   "outputs": [],
   "source": [
    "twitter_consumer = os.environ[\"TWITTER_CONSUMER\"]\n",
    "twitter_consumer_secret = os.environ[\"TWITTER_CONSUMER_SECRET\"]\n",
    "twitter_token = os.environ[\"TWITTER_TOKEN\"]\n",
    "twitter_token_secret = os.environ[\"TWITTER_TOKEN_SECRET\"]\n",
    "\n",
    "auth = tweepy.OAuthHandler(twitter_consumer, twitter_consumer_secret)\n",
    "auth.set_access_token(twitter_token, twitter_token_secret)\n",
    "api = tweepy.API(auth)\n",
    "\n",
    "\n",
    "query = \"(infosec OR cve OR cybersec OR cybersecurity OR ransomware)\"\n",
    "twitter_filter = \"-filter:retweets\"\n",
    "mininum_favorites = \"min_faves:10\"\n",
    "\n",
    "pattern = re.compile(r\"@\\w+\", re.UNICODE | re.MULTILINE)\n",
    "\n",
    "\n",
    "with  open(tweets_filename, \"a\", newline=\"\") as twitter_file:\n",
    "    csv_writer = csv.writer(twitter_file, quoting=csv.QUOTE_ALL)\n",
    "    header = [\"screen_name\", \"content\", \"mentions\"]\n",
    "    csv_writer.writerow(header)\n",
    "    # fetch 100 pages with 100 tweets per page.\n",
    "    for public_tweets in tweepy.Cursor(api.search, q=f\"{query} {twitter_filter} {mininum_favorites}\", count=100).pages(100):\n",
    "        for tweet in public_tweets:\n",
    "            screen_name = f\"@{tweet.user.screen_name}\"\n",
    "            # skip screen names we have seen before.\n",
    "            if screen_name in known_screen_names:\n",
    "                continue\n",
    "            mentions = pattern.findall(tweet.text)\n",
    "            csv_writer.writerow([screen_name, tweet.text.replace(\"\\n\", \"\\\\n\"), \"|\".join(mentions)])"
   ]
  },
  {
   "cell_type": "code",
   "execution_count": null,
   "metadata": {},
   "outputs": [],
   "source": [
    "def retry(func=None, wait=900):\n",
    "    \"\"\"retry retries the function after the wait period on a RateLimitError.\n",
    "    \n",
    "    All other errors are raised.\"\"\"\n",
    "    def decorator_retry(func):\n",
    "        @wraps(func)\n",
    "        def wrapper(*args, **kwargs):\n",
    "            while True:\n",
    "                try:\n",
    "                    return func(*args, **kwargs)\n",
    "                except tweepy.RateLimitError:\n",
    "                    print(f\"sleeping for {wait/60}min\", flush=True)\n",
    "                    time.sleep(wait)\n",
    "                except Exception:\n",
    "                    raise\n",
    "        return wrapper\n",
    "\n",
    "\n",
    "    if func is not None:\n",
    "        return decorator_retry(func)\n",
    "\n",
    "    return decorator_retry"
   ]
  },
  {
   "cell_type": "code",
   "execution_count": null,
   "metadata": {},
   "outputs": [],
   "source": [
    "def log(msg, filename):\n",
    "    \"\"\"log logs the message to the given filename.\n",
    "    \n",
    "    It will append the message to an existing file.\"\"\"\n",
    "    with open(filename, \"a\") as f:\n",
    "        f.write(msg)"
   ]
  },
  {
   "cell_type": "code",
   "execution_count": null,
   "metadata": {},
   "outputs": [],
   "source": [
    "names = set()\n",
    "with open(tweets_filename, newline=\"\") as twitter_file:\n",
    "    csv_reader = csv.DictReader(twitter_file)\n",
    "    for row in csv_reader:\n",
    "        names.add(row[\"screen_name\"])\n",
    "        for mention in row[\"mentions\"].split(\"|\"):\n",
    "            names.add(mention)\n",
    "\n",
    "# remove empty screen name\n",
    "names.remove(\"\")"
   ]
  },
  {
   "cell_type": "code",
   "execution_count": null,
   "metadata": {},
   "outputs": [],
   "source": [
    "friend_list = {}"
   ]
  },
  {
   "cell_type": "code",
   "execution_count": null,
   "metadata": {},
   "outputs": [],
   "source": [
    "# read in all known data about screen name and their friends\n",
    "if os.path.exists(user_and_friends_filename):\n",
    "    with open(user_and_friends_filename, newline=\"\") as twitter_file:\n",
    "        csv_reader = csv.DictReader(twitter_file)\n",
    "        friend_list = {row[\"screen_name\"]: row[\"friends_ids\"] for row in csv_reader}"
   ]
  },
  {
   "cell_type": "code",
   "execution_count": null,
   "metadata": {
    "tags": []
   },
   "outputs": [],
   "source": [
    "@retry\n",
    "def friends_ids(name):\n",
    "    return {name: api.friends_ids(name, count=5000)}\n",
    "\n",
    "print(\"Extract friends ids\", flush=True)\n",
    "for idx, name in enumerate(names):\n",
    "    if idx % 1000 == 0:\n",
    "        print(str(idx) + \" number of name processed\", flush=True)\n",
    "    # if the name is already in the list, we continue\n",
    "    if name in friend_list:\n",
    "        continue\n",
    "    \n",
    "    try:\n",
    "        val = friends_ids(name)\n",
    "    except Exception as e:\n",
    "        log(str(e), \"friends_ids.log\")\n",
    "    else:\n",
    "        friend_list.update(val)"
   ]
  },
  {
   "cell_type": "code",
   "execution_count": null,
   "metadata": {},
   "outputs": [],
   "source": [
    "with open(user_and_friends_filename, \"w\", newline=\"\") as twitter_file:\n",
    "    header = [\"screen_name\", \"friends_ids\"]\n",
    "    csv_writer = csv.writer(twitter_file, quoting=csv.QUOTE_ALL)\n",
    "    csv_writer.writerow(header)\n",
    "    for screen_name, friends_ids in friend_list.items():\n",
    "        # discard twitter profiles with over 5000 friends - no one can have that many friends!\n",
    "        if len(friends_ids) == 5000:\n",
    "            continue\n",
    "        csv_writer.writerow([screen_name, \"|\".join(str(id_) for id_ in friends_ids)])"
   ]
  },
  {
   "cell_type": "code",
   "execution_count": null,
   "metadata": {},
   "outputs": [],
   "source": [
    "unique_friend_ids = list(set(id_ for ids in friend_list.values() for id_ in ids))"
   ]
  },
  {
   "cell_type": "code",
   "execution_count": null,
   "metadata": {},
   "outputs": [],
   "source": [
    "screen_names = {}"
   ]
  },
  {
   "cell_type": "code",
   "execution_count": null,
   "metadata": {},
   "outputs": [],
   "source": [
    "# read in all known data of id to screen_names\n",
    "if os.path.exists(id_to_screen_name_filename):\n",
    "    with open(id_to_screen_name_filename, newline=\"\") as twitter_file:\n",
    "        csv_reader = csv.DictReader(twitter_file)\n",
    "        screen_names = {row[\"id\"]: row[\"screen_name\"] for row in csv_reader}"
   ]
  },
  {
   "cell_type": "code",
   "execution_count": null,
   "metadata": {},
   "outputs": [],
   "source": [
    "for key in screen_names:\n",
    "    try:\n",
    "        # remove all known ids\n",
    "        unique_friend_ids.remove(key)\n",
    "    except ValueError:\n",
    "        pass"
   ]
  },
  {
   "cell_type": "code",
   "execution_count": null,
   "metadata": {},
   "outputs": [],
   "source": [
    "@retry\n",
    "def lookup_users(ids):\n",
    "    return api.lookup_users(ids)\n",
    "\n",
    "print(\"Extract Users from friends ids\", flush=True)\n",
    "for i in range(100, len(unique_friend_ids), 100):\n",
    "    if i % 1000 == 0:\n",
    "        print(str(i) + \" number of id processed\", flush=True)\n",
    "    try:\n",
    "        users = lookup_users(unique_friend_ids[i-100:i])\n",
    "    except Exception as e:\n",
    "        log(str(e), \"lookup_users.log\")\n",
    "    else:\n",
    "        screen_names.update({user.id: user.screen_name for user in users})"
   ]
  },
  {
   "cell_type": "code",
   "execution_count": null,
   "metadata": {},
   "outputs": [],
   "source": [
    "with open(id_to_screen_name_filename, \"w\", newline=\"\") as twitter_file:\n",
    "    header = [\"id\", \"screen_name\"]\n",
    "    csv_writer = csv.writer(twitter_file, quoting=csv.QUOTE_ALL)\n",
    "    csv_writer.writerow(header)\n",
    "    for k, v in screen_names.items():\n",
    "        csv_writer.writerow([k, v])"
   ]
  },
  {
   "cell_type": "code",
   "execution_count": null,
   "metadata": {},
   "outputs": [],
   "source": [
    "friendly_friend_list = {screen_name: [f\"@{screen_names.get(id_)}\" for id_ in ids] for screen_name, ids in friend_list.items()}"
   ]
  },
  {
   "cell_type": "code",
   "execution_count": null,
   "metadata": {},
   "outputs": [],
   "source": [
    "with open(user_to_friend_filename, \"w\", newline=\"\") as twitter_file:\n",
    "    header = [\"screen_name\", \"friend_screen_names\"]\n",
    "    csv_writer = csv.writer(twitter_file, quoting=csv.QUOTE_ALL)\n",
    "    csv_writer.writerow(header)\n",
    "    for k, v in friendly_friend_list.items():\n",
    "        csv_writer.writerow([k, \"|\".join(v)])"
   ]
  }
 ]
}