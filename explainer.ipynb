{
 "metadata": {
  "language_info": {
   "codemirror_mode": {
    "name": "ipython",
    "version": 3
   },
   "file_extension": ".py",
   "mimetype": "text/x-python",
   "name": "python",
   "nbconvert_exporter": "python",
   "pygments_lexer": "ipython3",
   "version": 3
  },
  "orig_nbformat": 2
 },
 "nbformat": 4,
 "nbformat_minor": 2,
 "cells": [
  {
   "source": [
    "# Security People Network\n",
    "\n",
    "Written by:\n",
    "\n",
    "|Studie no.|Full Name           |\n",
    "|:--------:|:------------------:|\n",
    "| s192188  | Yucheng Ren         |\n",
    "| s153753  | Søren Fritzbøger    |\n",
    "| s143232  | Peter Bom Jakobsen  |"
   ],
   "cell_type": "markdown",
   "metadata": {}
  },
  {
   "source": [
    "## Motivation"
   ],
   "cell_type": "markdown",
   "metadata": {}
  },
  {
   "source": [
    "Security people - as the world of IT becomes more widespread and increasingly complex, many security vulnerabilities arise which could potentially have an enormous impact on a company or worse case a whole country. There are a few guardians who dedicate their life to secure the IT infrastructure so we all can sleep peacefully.\n",
    "\n",
    "We want to explore how many security people there are and find out if they generally know each other. \n",
    "Find out if they can be split into two communities of offensive vs defensive security. \n",
    "Within these communities, we could try to use some Natural Language Processing to detect which community speaks most loudly and potentially see if there is a sentimentally difference.\n",
    "\n",
    "Many security people uses Twitter as the communication platform to share their discoveries, insights and thoughts about security vulnerabilites and how to fix those.\n",
    "Therefore, we will use the Twitter API to extract data about these people.\n",
    "\n",
    "The extraction was conducted into 4 steps:\n",
    "\n",
    "1. Broad extraction of security people.\n",
    "2. Extraction user friendships.\n",
    "3. Extraction user information such as description and location.\n",
    "4. Extraction user timeline.\n",
    "\n",
    "After these steps we had sufficient data to conduct our analysis.\n",
    "\n",
    "The dataset contains:\n",
    "\n",
    "* tweets containing security words \"infosec\", \"cve\",  \"cybersec\", \"cybersecurity\" or \"ransomware\".\n",
    "* screen names.\n",
    "* friends' ids and screen names.\n",
    "* timeline tweets - 20 tweets that is not filtered.\n",
    "* user descriptions and locations."
   ],
   "cell_type": "markdown",
   "metadata": {}
  },
  {
   "source": [
    "* What is your dataset?\n",
    "* Why did you choose this/these particular dataset(s)?\n",
    "* What was your goal for the end user's experience?"
   ],
   "cell_type": "markdown",
   "metadata": {}
  },
  {
   "source": [
    "## Basic stats"
   ],
   "cell_type": "markdown",
   "metadata": {}
  },
  {
   "source": [],
   "cell_type": "markdown",
   "metadata": {}
  },
  {
   "source": [
    "* Write about your choices in data cleaning and preprocessing\n",
    "* Write a short section that discusses the dataset stats (here you can recycle the work you did for Project Assignment A)"
   ],
   "cell_type": "markdown",
   "metadata": {}
  },
  {
   "source": [
    "## Tools, theory and analysis"
   ],
   "cell_type": "markdown",
   "metadata": {}
  },
  {
   "source": [],
   "cell_type": "markdown",
   "metadata": {}
  },
  {
   "source": [
    "* Talk about how you've worked with text, including regular expressions, unicode, etc.\n",
    "* Describe which network science tools and data analysis strategies you've used, how those network science measures work, and why the tools you've chosen are right for the problem you're solving.\n",
    "* How did you use the tools to understand your dataset?"
   ],
   "cell_type": "markdown",
   "metadata": {}
  },
  {
   "source": [
    "## Discussion"
   ],
   "cell_type": "markdown",
   "metadata": {}
  },
  {
   "source": [
    "* What went well?,\n",
    "* What is still missing? What could be improved?, Why?"
   ],
   "cell_type": "markdown",
   "metadata": {}
  },
  {
   "source": [
    "## Contributions"
   ],
   "cell_type": "markdown",
   "metadata": {}
  },
  {
   "source": [
    "* You should write (just briefly) which group member was the main responsible for which elements of the assignment. (I want you guys to understand every part of the assignment, but usually there is someone who took lead role on certain portions of the work. That’s what you should explain).\n",
    "* It is not OK simply to write \"All group members contributed equally\"."
   ],
   "cell_type": "markdown",
   "metadata": {}
  }
 ]
}